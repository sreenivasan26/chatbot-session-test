{
 "cells": [
  {
   "cell_type": "markdown",
   "id": "a883a0fd",
   "metadata": {},
   "source": [
    "# Session 2 – Notebook 3: LLM Parameters\n",
    "\n",
    "**Objectives:**\n",
    "- Learn about key parameters that control LLM behavior.\n",
    "- Experiment with:\n",
    "  - `temperature` → randomness / creativity.\n",
    "  - `max_new_tokens` → response length.\n",
    "  - `top_p` → diversity of word choices.\n",
    "- Understand how parameter tuning changes chatbot output."
   ]
  },
  {
   "cell_type": "code",
   "execution_count": 2,
   "id": "d538dfcb",
   "metadata": {},
   "outputs": [
    {
     "name": "stderr",
     "output_type": "stream",
     "text": [
      "/home/vscode/.local/lib/python3.10/site-packages/tqdm/auto.py:21: TqdmWarning: IProgress not found. Please update jupyter and ipywidgets. See https://ipywidgets.readthedocs.io/en/stable/user_install.html\n",
      "  from .autonotebook import tqdm as notebook_tqdm\n",
      "Device set to use cpu\n"
     ]
    }
   ],
   "source": [
    "from transformers import pipeline\n",
    "\n",
    "# Load a small instruction-following model\n",
    "# flan-t5-small is light and good for Q&A or simple tasks\n",
    "gen = pipeline(\"text2text-generation\", model=\"google/flan-t5-small\")\n",
    "\n",
    "prompt = \"Write a short story about a dog who becomes a hero.\"\n"
   ]
  },
  {
   "cell_type": "markdown",
   "id": "816d897c",
   "metadata": {},
   "source": [
    "**MAX NEW TOKENS**"
   ]
  },
  {
   "cell_type": "code",
   "execution_count": 25,
   "id": "e05ca4b1",
   "metadata": {},
   "outputs": [
    {
     "name": "stdout",
     "output_type": "stream",
     "text": [
      "Max tokens = 20\n",
      "The dog is a hero and he is a hero. He is a\n"
     ]
    }
   ],
   "source": [
    "# MAX NEW TOKENS -> controls how long the response can be\n",
    "# Smaller values = short answers, larger values = detailed answers\n",
    "\n",
    "print(\"Max tokens = 20\")\n",
    "print(gen(prompt, max_new_tokens=20)[0][\"generated_text\"])"
   ]
  },
  {
   "cell_type": "code",
   "execution_count": 26,
   "id": "3573a559",
   "metadata": {},
   "outputs": [
    {
     "name": "stdout",
     "output_type": "stream",
     "text": [
      "\n",
      "Max tokens = 80\n",
      "The dog is a hero. He is a dog. He is a hero. He is a hero. He is a hero. He is a hero. He is a hero. He is a hero. He is a hero. He is a hero. He is a hero. He is \n"
     ]
    }
   ],
   "source": [
    "# MAX NEW TOKENS -> controls how long the response can be\n",
    "# Smaller values = short answers, larger values = detailed answers\n",
    "\n",
    "print(\"\\nMax tokens = 80\")\n",
    "print(gen(prompt, max_new_tokens=80)[0][\"generated_text\"])"
   ]
  },
  {
   "cell_type": "markdown",
   "id": "4161384e",
   "metadata": {},
   "source": [
    "**do_sample**"
   ]
  },
  {
   "cell_type": "markdown",
   "id": "3eb01f03",
   "metadata": {},
   "source": [
    "When a model generates text, it chooses words one by one.\n",
    "Each next word has probabilities — like:\n",
    "\n",
    "Token | Probability\n",
    "------|-------------\n",
    "dog   | 0.65\n",
    "cat   | 0.25\n",
    "wolf  | 0.10\n",
    "\n",
    "`do_sample` tells the model *how* to pick from these probabilities.\n",
    "\n",
    "-------------------------------------------------------------\n",
    "🧩 do_sample = False   →  DETERMINISTIC MODE\n",
    "\n",
    "-------------------------------------------------------------\n",
    "- Always picks the word with the highest score.\n",
    "- No randomness.\n",
    "- Same prompt → same output every time.\n",
    "✅ Called “deterministic” because the result is fixed and repeatable.\n",
    "\n",
    "-------------------------------------------------------------\n",
    "🎲 do_sample = True   →  STOCHASTIC MODE\n",
    "\n",
    "-------------------------------------------------------------\n",
    "- Randomly picks from the probability list.\n",
    "- Sometimes “cat,” sometimes “dog,” depending on luck and temperature.\n",
    "- Same prompt → slightly different outputs each time.\n",
    "🎨 Called “stochastic” because randomness is part of the process.\n",
    "\n",
    "-------------------------------------------------------------\n",
    "\n",
    "🧠 In short:\n",
    "\n",
    "   do_sample = False  →  Deterministic (no randomness)\n",
    "   \n",
    "   do_sample = True   →  Stochastic (adds randomness)\n",
    "\n"
   ]
  },
  {
   "cell_type": "code",
   "execution_count": 24,
   "id": "e61dcc70",
   "metadata": {},
   "outputs": [
    {
     "name": "stdout",
     "output_type": "stream",
     "text": [
      "The dog is a hero. He is a dog. He is a hero. He is a hero. He is a hero. He is a hero. He is a hero. He is a hero. He is a hero. He is a hero. He is a hero. He is \n"
     ]
    }
   ],
   "source": [
    "# do_sample = False → Deterministic / Greedy decoding\n",
    "# The model always picks the most likely next word.\n",
    "# Same input → same output every time (safe, predictable).\n",
    "# max_new_tokens just controls how long the response can be.\n",
    "\n",
    "print(gen(prompt, do_sample=False, max_new_tokens=80)[0][\"generated_text\"])"
   ]
  },
  {
   "cell_type": "code",
   "execution_count": 22,
   "id": "297ca7f1",
   "metadata": {},
   "outputs": [
    {
     "name": "stdout",
     "output_type": "stream",
     "text": [
      "The dog is the hero of the fox. He is a fox. He is a fox. He is a fox. He is a fox. He is a fox. He is a fox. He is a fox. He is a fox. He is a fox. He is a fox\n"
     ]
    }
   ],
   "source": [
    "# do_sample = True → Stochastic / Sampling decoding\n",
    "# The model randomly picks from possible next words.\n",
    "# Same input → different output each time (creative, varied).\n",
    "# max_new_tokens still limits how long the model continues writing.\n",
    "\n",
    "print(gen(prompt, do_sample=True, max_new_tokens=80)[0][\"generated_text\"])"
   ]
  },
  {
   "cell_type": "markdown",
   "id": "16c60437",
   "metadata": {},
   "source": [
    "**Temperature**"
   ]
  },
  {
   "cell_type": "code",
   "execution_count": 27,
   "id": "bf543fed",
   "metadata": {},
   "outputs": [
    {
     "name": "stdout",
     "output_type": "stream",
     "text": [
      "Temperature = 0.2\n",
      "The dog is a hero. He is a dog. He is a hero. He is a hero. He is a hero. He is a hero. He is a hero. He is a hero. He is a\n"
     ]
    }
   ],
   "source": [
    "# TEMPERATURE -> controls creativity / randomness\n",
    "# Lower = predictable, Higher = more creative/varied\n",
    "\n",
    "print(\"Temperature = 0.2\")\n",
    "print(gen(prompt, temperature=0.2, do_sample=True, max_new_tokens=60)[0][\"generated_text\"])"
   ]
  },
  {
   "cell_type": "code",
   "execution_count": 28,
   "id": "9ae6059a",
   "metadata": {},
   "outputs": [
    {
     "name": "stdout",
     "output_type": "stream",
     "text": [
      "\n",
      "Temperature = 1.5\n",
      "The dog is the dog's owner and he is the thief. He is an obnoxious dog. He has a lot of problems with his dog that he doesn t like. He is the dog's owner and his dog is the owner of\n"
     ]
    }
   ],
   "source": [
    "# TEMPERATURE -> controls creativity / randomness\n",
    "# Lower = predictable, Higher = more creative/varied\n",
    "\n",
    "print(\"\\nTemperature = 1.5\")\n",
    "print(gen(prompt, temperature=1.5, do_sample=True, max_new_tokens=60)[0][\"generated_text\"])"
   ]
  },
  {
   "cell_type": "code",
   "execution_count": 29,
   "id": "de5e60e3",
   "metadata": {},
   "outputs": [
    {
     "name": "stdout",
     "output_type": "stream",
     "text": [
      "\n",
      "Temperature = 1.5\n",
      "The dog is a hero. He is a dog. He is a hero. He is a hero. He is a hero. He is a hero. He is a hero. He is a hero. He is a\n"
     ]
    }
   ],
   "source": [
    "# TEMPERATURE -> controls creativity / randomness\n",
    "# Lower = predictable, Higher = more creative/varied\n",
    "\n",
    "print(\"\\nTemperature = 1.5\")\n",
    "print(gen(prompt, temperature=1.5, do_sample=False, max_new_tokens=60)[0][\"generated_text\"])"
   ]
  },
  {
   "cell_type": "markdown",
   "id": "8a62998a",
   "metadata": {},
   "source": [
    "**What have we learnt?**\n",
    "\n",
    "Temperature doesn’t make the model “smarter” — it changes how risky it is when picking the next word.\n",
    "\n",
    "- Low temp: always picks the safest word → same output every time.\n",
    "- High temp: takes more risks → new ideas, but more errors.\n",
    "- Works only if sampling is on (do_sample=True)."
   ]
  },
  {
   "cell_type": "markdown",
   "id": "558ee5c8",
   "metadata": {},
   "source": [
    "**TOP-P**"
   ]
  },
  {
   "cell_type": "code",
   "execution_count": 39,
   "id": "1f3936b9",
   "metadata": {},
   "outputs": [
    {
     "name": "stdout",
     "output_type": "stream",
     "text": [
      "Top-p = 0.1\n",
      "The dog is a hero. He is a dog. He is a hero. He is a hero. He is a hero. He is a hero. He is a hero. He is a hero. He is a\n"
     ]
    }
   ],
   "source": [
    "# TOP-P -> controls diversity of word choices\n",
    "# Lower = focused on the most likely words\n",
    "# Higher = allows more diverse / unexpected words\n",
    "\n",
    "print(\"Top-p = 0.1\")\n",
    "print(gen(prompt, top_p=0.5, do_sample=True, max_new_tokens=60)[0][\"generated_text\"])"
   ]
  },
  {
   "cell_type": "code",
   "execution_count": 40,
   "id": "d3b70200",
   "metadata": {},
   "outputs": [
    {
     "name": "stdout",
     "output_type": "stream",
     "text": [
      "Top-p = 0.9\n",
      "The dog is a hero. He is a scout. He is a cat. He is a scout. He is a scout. He is a scout. He is a scout. He\n"
     ]
    }
   ],
   "source": [
    "# TOP-P -> controls diversity of word choices\n",
    "# Lower = focused on the most likely words\n",
    "# Higher = allows more diverse / unexpected words\n",
    "\n",
    "print(\"Top-p = 0.9\")\n",
    "print(gen(prompt, top_p=0.9, do_sample=True, max_new_tokens=60)[0][\"generated_text\"])\n"
   ]
  },
  {
   "cell_type": "markdown",
   "id": "0b57a7b4",
   "metadata": {},
   "source": [
    "### Reflection\n",
    "\n",
    "- Which response sounded more creative or surprising?  \n",
    "- Which response was the shortest or most factual?  \n",
    "- If you wanted to build a chatbot for **homework help**, what settings would you use?  \n",
    "- If you wanted to build a **storytelling bot**, what settings would you use?  "
   ]
  },
  {
   "cell_type": "code",
   "execution_count": 6,
   "id": "7429c1c0",
   "metadata": {},
   "outputs": [
    {
     "name": "stdout",
     "output_type": "stream",
     "text": [
      "User: Explain photosynthesis like I am 10 years old.\n",
      "Bot: Explain photosynthesis as I am 10 years old.\n"
     ]
    }
   ],
   "source": [
    "# FULL DEMO: Adjust all parameters at once\n",
    "\n",
    "prompt = \"Explain photosynthesis like I am 10 years old.\"\n",
    "\n",
    "response = gen(\n",
    "    prompt,\n",
    "    do_sample=True,\n",
    "    temperature=0.7,     # creativity\n",
    "    max_new_tokens=80,   # length\n",
    "    top_p=0.9            # diversity\n",
    ")\n",
    "\n",
    "print(\"User:\", prompt)\n",
    "print(\"Bot:\", response[0][\"generated_text\"])\n"
   ]
  }
 ],
 "metadata": {
  "kernelspec": {
   "display_name": "Python 3",
   "language": "python",
   "name": "python3"
  },
  "language_info": {
   "codemirror_mode": {
    "name": "ipython",
    "version": 3
   },
   "file_extension": ".py",
   "mimetype": "text/x-python",
   "name": "python",
   "nbconvert_exporter": "python",
   "pygments_lexer": "ipython3",
   "version": "3.10.18"
  }
 },
 "nbformat": 4,
 "nbformat_minor": 5
}
