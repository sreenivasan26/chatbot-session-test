{
 "cells": [
  {
   "cell_type": "markdown",
   "id": "42688dc1",
   "metadata": {},
   "source": [
    "# Session 2 – Notebook 1: Rule-Based\n",
    "\n",
    "**Objectives:**\n",
    "- Understand how a rule-based chatbot works.\n",
    "- Understand the advantages and limitations of Rule based.\n"
   ]
  },
  {
   "cell_type": "code",
   "execution_count": 1,
   "id": "7626af3b",
   "metadata": {},
   "outputs": [
    {
     "data": {
      "text/plain": [
       "{'hi': 'Hello there!',\n",
       " 'thanks': \"You're welcome\",\n",
       " 'how are you?': \"I'm good, how are you?\"}"
      ]
     },
     "execution_count": 1,
     "metadata": {},
     "output_type": "execute_result"
    }
   ],
   "source": [
    "# RULE-BASED CHATBOT (part 1: dictionary)\n",
    "\n",
    "# Fixed responses stored as key-value pairs\n",
    "responses = {\n",
    "    \"hi\": \"Hello there!\",\n",
    "    \"thanks\": \"You're welcome\",\n",
    "    \"how are you?\": \"I'm good, how are you?\",\n",
    "}\n",
    "responses\n"
   ]
  },
  {
   "cell_type": "code",
   "execution_count": 2,
   "id": "f6366bb5",
   "metadata": {},
   "outputs": [],
   "source": [
    "# RULE-BASED CHATBOT (part 2: function)\n",
    "\n",
    "def rule_based_bot(user_input):\n",
    "    # Normalize input: lowercase + remove spaces\n",
    "    user_input = user_input.lower().strip()\n",
    "    # Return response if available, else a default reply\n",
    "    return responses.get(user_input, \"Sorry, I don't understand that yet...\")\n"
   ]
  },
  {
   "cell_type": "code",
   "execution_count": 3,
   "id": "a055d0b2",
   "metadata": {},
   "outputs": [
    {
     "name": "stdout",
     "output_type": "stream",
     "text": [
      "User: hi\n",
      "Bot: Hello there!\n"
     ]
    }
   ],
   "source": [
    "# RULE-BASED CHATBOT (part 3: test A)\n",
    "\n",
    "print(\"User: hi\")\n",
    "print(\"Bot:\", rule_based_bot(\"hi\"))\n"
   ]
  },
  {
   "cell_type": "code",
   "execution_count": 4,
   "id": "6a04aa03",
   "metadata": {},
   "outputs": [
    {
     "name": "stdout",
     "output_type": "stream",
     "text": [
      "\n",
      "User: what is your name?\n",
      "Bot: Sorry, I don't understand that yet...\n"
     ]
    }
   ],
   "source": [
    "# RULE-BASED CHATBOT (part 3: test B)\n",
    "\n",
    "print(\"\\nUser: what is your name?\")\n",
    "print(\"Bot:\", rule_based_bot(\"what is your name?\"))  # not in rules\n"
   ]
  },
  {
   "cell_type": "markdown",
   "id": "a0c9f22d",
   "metadata": {},
   "source": [
    "**Reflections**\n",
    "\n",
    "- What happens if you type \"Hi\" with a capital H instead of \"hi\"?  \n",
    "- What happens if you type something that is not in the dictionary?  \n",
    "- How could we add a new rule?  "
   ]
  },
  {
   "cell_type": "code",
   "execution_count": null,
   "id": "2e5b5e00",
   "metadata": {},
   "outputs": [
    {
     "name": "stdout",
     "output_type": "stream",
     "text": [
      "Rule-Based Chatbot (type 'bye' to exit)\n",
      "Bot: Hello there!\n",
      "Bot: I'm good, how are you?\n",
      "Bot: Sorry, I don't understand that yet...\n",
      "Bot: Sorry, I don't understand that yet...\n",
      "Bot: Sorry, I don't understand that yet...\n",
      "Bot: Sorry, I don't understand that yet...\n",
      "Bot: Sorry, I don't understand that yet...\n",
      "Bot: Sorry, I don't understand that yet...\n",
      "Bot: Sorry, I don't understand that yet...\n",
      "Bot: Sorry, I don't understand that yet...\n",
      "Bot: Sorry, I don't understand that yet...\n",
      "Bot: Sorry, I don't understand that yet...\n",
      "Bot: Sorry, I don't understand that yet...\n",
      "Bot: Sorry, I don't understand that yet...\n",
      "Bot: Sorry, I don't understand that yet...\n",
      "Bot: Sorry, I don't understand that yet...\n"
     ]
    }
   ],
   "source": [
    "# RULE-BASED CHATBOT (CLI with loop)\n",
    "# This simulates a \"conversation\" in the terminal.\n",
    "\n",
    "print(\"Rule-Based Chatbot (type 'bye' to exit)\")\n",
    "\n",
    "while True:\n",
    "    user_input = input(\"You: \").lower().strip()\n",
    "\n",
    "    if user_input == \"bye\":\n",
    "        print(\"Bot: Goodbye, see you soon!\")\n",
    "        break\n",
    "\n",
    "    if user_input in responses:\n",
    "        print(\"Bot:\", responses[user_input])\n",
    "    else:\n",
    "        print(\"Bot: Sorry, I don't understand that yet...\")\n"
   ]
  }
 ],
 "metadata": {
  "kernelspec": {
   "display_name": "Python 3",
   "language": "python",
   "name": "python3"
  },
  "language_info": {
   "codemirror_mode": {
    "name": "ipython",
    "version": 3
   },
   "file_extension": ".py",
   "mimetype": "text/x-python",
   "name": "python",
   "nbconvert_exporter": "python",
   "pygments_lexer": "ipython3",
   "version": "3.10.18"
  }
 },
 "nbformat": 4,
 "nbformat_minor": 5
}
